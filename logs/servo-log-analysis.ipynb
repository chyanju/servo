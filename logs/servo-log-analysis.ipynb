{
 "cells": [
  {
   "cell_type": "code",
   "execution_count": 41,
   "metadata": {},
   "outputs": [],
   "source": [
    "# with open(\"./wikipedia_inc.log\", \"r\") as f:\n",
    "with open(\"./wikipedia_noninc.log\", \"r\") as f:\n",
    "# with open(\"./github_inc.log\", \"r\") as f:\n",
    "# with open(\"./github_noninc.log\", \"r\") as f:\n",
    "    lines = f.readlines()"
   ]
  },
  {
   "cell_type": "code",
   "execution_count": 42,
   "metadata": {},
   "outputs": [
    {
     "data": {
      "text/plain": [
       "24893878"
      ]
     },
     "execution_count": 42,
     "metadata": {},
     "output_type": "execute_result"
    }
   ],
   "source": [
    "len(lines)"
   ]
  },
  {
   "cell_type": "code",
   "execution_count": 43,
   "metadata": {},
   "outputs": [],
   "source": [
    "lines = [p for p in lines if \"[profile]\" in p]"
   ]
  },
  {
   "cell_type": "code",
   "execution_count": 44,
   "metadata": {},
   "outputs": [
    {
     "data": {
      "text/plain": [
       "13880973"
      ]
     },
     "execution_count": 44,
     "metadata": {},
     "output_type": "execute_result"
    }
   ],
   "source": [
    "len(lines)"
   ]
  },
  {
   "cell_type": "code",
   "execution_count": 12,
   "metadata": {},
   "outputs": [],
   "source": [
    "import re\n",
    "def get_attribute_from_line(arg_line):\n",
    "    str0 = re.search(r\".*?, .*?, \\\"(.*?)\\\", before=\", arg_line).group(1).strip()\n",
    "    return str0\n",
    "\n",
    "def get_same_from_line(arg_line):\n",
    "    str0 = re.search(r\"same=(.*)\", arg_line).group(1).strip()\n",
    "    return str0"
   ]
  },
  {
   "cell_type": "code",
   "execution_count": 11,
   "metadata": {},
   "outputs": [
    {
     "data": {
      "text/plain": [
       "'BaseFlow.intrinsic_inline_sizes.minimum_inline_size'"
      ]
     },
     "execution_count": 11,
     "metadata": {},
     "output_type": "execute_result"
    }
   ],
   "source": [
    "get_attribute_from_line(lines[0])"
   ]
  },
  {
   "cell_type": "code",
   "execution_count": 13,
   "metadata": {},
   "outputs": [
    {
     "data": {
      "text/plain": [
       "'true'"
      ]
     },
     "execution_count": 13,
     "metadata": {},
     "output_type": "execute_result"
    }
   ],
   "source": [
    "get_same_from_line(lines[0])"
   ]
  },
  {
   "cell_type": "code",
   "execution_count": null,
   "metadata": {},
   "outputs": [],
   "source": []
  },
  {
   "cell_type": "code",
   "execution_count": null,
   "metadata": {},
   "outputs": [],
   "source": [
    "# saved records for wikipedia_inc.log"
   ]
  },
  {
   "cell_type": "code",
   "execution_count": 18,
   "metadata": {},
   "outputs": [
    {
     "name": "stdout",
     "output_type": "stream",
     "text": [
      "# processing 15765601/15765602\n"
     ]
    }
   ],
   "source": [
    "sts_dict = {}\n",
    "n = len(lines)\n",
    "for i in range(n):\n",
    "    print(\"\\r# processing {}/{}\".format(i, n), end=\"\")\n",
    "    dline = lines[i]\n",
    "    dattr = get_attribute_from_line(dline)\n",
    "    dsame = get_same_from_line(dline)\n",
    "    if dattr not in sts_dict:\n",
    "        sts_dict[dattr] = [0,0]\n",
    "    if dsame==\"true\":\n",
    "        sts_dict[dattr][1] += 1\n",
    "    elif dsame==\"false\":\n",
    "        sts_dict[dattr][0] += 1\n",
    "    else:\n",
    "        raise Exception(\"unrecognized same value: {}\".format(dsame))\n",
    "print()"
   ]
  },
  {
   "cell_type": "code",
   "execution_count": 22,
   "metadata": {},
   "outputs": [
    {
     "name": "stdout",
     "output_type": "stream",
     "text": [
      "BaseFlow.intrinsic_inline_sizes.minimum_inline_size, 75.44% (128183:41733)\n",
      "BaseFlow.intrinsic_inline_sizes.preferred_inline_size, 75.44% (128183:41733)\n",
      "BaseFlow.position.start.i, 20.68% (98302:376942)\n",
      "BaseFlow.position.start.b, 16.63% (5032:25219)\n",
      "BaseFlow.position.size.inline, 46.21% (260000:302678)\n",
      "Fragment.border_box.size.inline, 10.88% (276808:2266863)\n",
      "Fragment.border_box.size.blocck, 46.99% (126514:142713)\n",
      "Fragment.border_box.start.b, 25.14% (657166:1956534)\n",
      "BaseFlow.position.size.block, 43.34% (127818:167099)\n",
      "Fragment.border_box.size.block, 1.74% (40310:2270950)\n",
      "Fragment.border_box.start.i, 40.41% (471939:695794)\n",
      "Fragment.position.start.b, 30.77% (130433:293426)\n",
      "[inline_start]Fragment.border_padding.inline_end, 1.54% (3863:246450)\n",
      "[inline_start]Fragment.border_box.size.inline, 0.00% (0:250313)\n",
      "[inline_end]Fragment.border_padding.inline_start, 0.00% (0:250313)\n",
      "[inline_end]Fragment.border_box.size.inline, 1.54% (3863:246450)\n",
      "Fragment.margin.block_start, 0.00% (0:9007)\n",
      "Fragment.margin.block_end, 0.00% (0:9007)\n",
      "Fragment.border_padding.inline_start, 0.00% (0:21087)\n",
      "Fragment.border_padding.inline_end, 0.00% (0:21087)\n",
      "Fragment.border_padding.block_start, 1.81% (382:20705)\n",
      "Fragment.border_padding.block_end, 1.81% (382:20705)\n",
      "BaseFlow.overflow.scroll.min.x, 6.90% (31291:422411)\n",
      "BaseFlow.overflow.scroll.min.y, 15.41% (69895:383807)\n",
      "BaseFlow.overflow.scroll.max.x, 52.06% (236175:217527)\n",
      "BaseFlow.overflow.scroll.max.y, 51.93% (235630:218072)\n",
      "BaseFlow.overflow.paint.min.x, 6.99% (31735:421967)\n",
      "BaseFlow.overflow.paint.min.y, 15.50% (70330:383372)\n",
      "BaseFlow.overflow.paint.max.x, 52.06% (236175:217527)\n",
      "BaseFlow.overflow.paint.max.y, 51.93% (235630:218072)\n"
     ]
    }
   ],
   "source": [
    "for dkey in sts_dict.keys():\n",
    "    dsame0 = sts_dict[dkey][0]\n",
    "    dsame1 = sts_dict[dkey][1]\n",
    "    print(\"{}, {:.2f}% ({}:{})\".format(dkey, dsame0/(dsame0+dsame1)*100, dsame0, dsame1))"
   ]
  },
  {
   "cell_type": "code",
   "execution_count": null,
   "metadata": {},
   "outputs": [],
   "source": []
  },
  {
   "cell_type": "code",
   "execution_count": null,
   "metadata": {},
   "outputs": [],
   "source": []
  },
  {
   "cell_type": "code",
   "execution_count": null,
   "metadata": {},
   "outputs": [],
   "source": [
    "# saved records for wikipedia_noninc.log"
   ]
  },
  {
   "cell_type": "code",
   "execution_count": 45,
   "metadata": {},
   "outputs": [
    {
     "name": "stdout",
     "output_type": "stream",
     "text": [
      "# processing 13880972/13880973\n"
     ]
    }
   ],
   "source": [
    "sts_dict_1 = {}\n",
    "n = len(lines)\n",
    "for i in range(n):\n",
    "    print(\"\\r# processing {}/{}\".format(i, n), end=\"\")\n",
    "    dline = lines[i]\n",
    "    dattr = get_attribute_from_line(dline)\n",
    "    dsame = get_same_from_line(dline)\n",
    "    if dattr not in sts_dict_1:\n",
    "        sts_dict_1[dattr] = [0,0]\n",
    "    if dsame==\"true\":\n",
    "        sts_dict_1[dattr][1] += 1\n",
    "    elif dsame==\"false\":\n",
    "        sts_dict_1[dattr][0] += 1\n",
    "    else:\n",
    "        raise Exception(\"unrecognized same value: {}\".format(dsame))\n",
    "print()"
   ]
  },
  {
   "cell_type": "code",
   "execution_count": 46,
   "metadata": {},
   "outputs": [
    {
     "name": "stdout",
     "output_type": "stream",
     "text": [
      "BaseFlow.intrinsic_inline_sizes.minimum_inline_size, 98.66% (183550:2486)\n",
      "BaseFlow.intrinsic_inline_sizes.preferred_inline_size, 98.66% (183550:2486)\n",
      "BaseFlow.position.start.i, 24.39% (101482:314609)\n",
      "BaseFlow.position.start.b, 30.87% (7979:17864)\n",
      "BaseFlow.position.size.inline, 71.52% (352125:140247)\n",
      "Fragment.border_box.size.inline, 5.70% (118100:1953627)\n",
      "Fragment.border_box.size.blocck, 74.40% (174408:60026)\n",
      "Fragment.border_box.start.b, 37.51% (895723:1492339)\n",
      "BaseFlow.position.size.block, 70.70% (181117:75059)\n",
      "Fragment.border_box.size.block, 1.86% (37303:1963211)\n",
      "Fragment.border_box.start.i, 52.75% (565935:506936)\n",
      "Fragment.position.start.b, 42.29% (155888:212758)\n",
      "[inline_start]Fragment.border_padding.inline_end, 1.71% (3873:222700)\n",
      "[inline_start]Fragment.border_box.size.inline, 0.00% (0:226573)\n",
      "[inline_end]Fragment.border_padding.inline_start, 0.00% (0:226573)\n",
      "[inline_end]Fragment.border_box.size.inline, 1.71% (3873:222700)\n",
      "Fragment.margin.block_start, 0.00% (0:7886)\n",
      "Fragment.margin.block_end, 0.00% (0:7886)\n",
      "Fragment.border_padding.inline_start, 0.00% (0:19310)\n",
      "Fragment.border_padding.inline_end, 0.00% (0:19310)\n",
      "Fragment.border_padding.block_start, 2.20% (424:18886)\n",
      "Fragment.border_padding.block_end, 2.20% (424:18886)\n",
      "BaseFlow.overflow.scroll.min.x, 9.63% (38310:359548)\n",
      "BaseFlow.overflow.scroll.min.y, 29.89% (118913:278945)\n",
      "BaseFlow.overflow.scroll.max.x, 85.79% (341330:56528)\n",
      "BaseFlow.overflow.scroll.max.y, 85.27% (339267:58591)\n",
      "BaseFlow.overflow.paint.min.x, 9.92% (39469:358389)\n",
      "BaseFlow.overflow.paint.min.y, 30.18% (120066:277791)\n",
      "BaseFlow.overflow.paint.max.x, 85.79% (341329:56528)\n",
      "BaseFlow.overflow.paint.max.y, 85.27% (339266:58591)\n"
     ]
    }
   ],
   "source": [
    "for dkey in sts_dict_1.keys():\n",
    "    dsame0 = sts_dict_1[dkey][0]\n",
    "    dsame1 = sts_dict_1[dkey][1]\n",
    "    print(\"{}, {:.2f}% ({}:{})\".format(dkey, dsame0/(dsame0+dsame1)*100, dsame0, dsame1))"
   ]
  },
  {
   "cell_type": "code",
   "execution_count": 47,
   "metadata": {},
   "outputs": [],
   "source": [
    "# parallel display of 0&1"
   ]
  },
  {
   "cell_type": "code",
   "execution_count": 49,
   "metadata": {},
   "outputs": [
    {
     "name": "stdout",
     "output_type": "stream",
     "text": [
      "BaseFlow.intrinsic_inline_sizes.minimum_inline_size, [inc] 75.44% (128183:41733), [noninc] 98.66% (183550:2486)\n",
      "BaseFlow.intrinsic_inline_sizes.preferred_inline_size, [inc] 75.44% (128183:41733), [noninc] 98.66% (183550:2486)\n",
      "BaseFlow.position.start.i, [inc] 20.68% (98302:376942), [noninc] 24.39% (101482:314609)\n",
      "BaseFlow.position.start.b, [inc] 16.63% (5032:25219), [noninc] 30.87% (7979:17864)\n",
      "BaseFlow.position.size.inline, [inc] 46.21% (260000:302678), [noninc] 71.52% (352125:140247)\n",
      "Fragment.border_box.size.inline, [inc] 10.88% (276808:2266863), [noninc] 5.70% (118100:1953627)\n",
      "Fragment.border_box.size.blocck, [inc] 46.99% (126514:142713), [noninc] 74.40% (174408:60026)\n",
      "Fragment.border_box.start.b, [inc] 25.14% (657166:1956534), [noninc] 37.51% (895723:1492339)\n",
      "BaseFlow.position.size.block, [inc] 43.34% (127818:167099), [noninc] 70.70% (181117:75059)\n",
      "Fragment.border_box.size.block, [inc] 1.74% (40310:2270950), [noninc] 1.86% (37303:1963211)\n",
      "Fragment.border_box.start.i, [inc] 40.41% (471939:695794), [noninc] 52.75% (565935:506936)\n",
      "Fragment.position.start.b, [inc] 30.77% (130433:293426), [noninc] 42.29% (155888:212758)\n",
      "[inline_start]Fragment.border_padding.inline_end, [inc] 1.54% (3863:246450), [noninc] 1.71% (3873:222700)\n",
      "[inline_start]Fragment.border_box.size.inline, [inc] 0.00% (0:250313), [noninc] 0.00% (0:226573)\n",
      "[inline_end]Fragment.border_padding.inline_start, [inc] 0.00% (0:250313), [noninc] 0.00% (0:226573)\n",
      "[inline_end]Fragment.border_box.size.inline, [inc] 1.54% (3863:246450), [noninc] 1.71% (3873:222700)\n",
      "Fragment.margin.block_start, [inc] 0.00% (0:9007), [noninc] 0.00% (0:7886)\n",
      "Fragment.margin.block_end, [inc] 0.00% (0:9007), [noninc] 0.00% (0:7886)\n",
      "Fragment.border_padding.inline_start, [inc] 0.00% (0:21087), [noninc] 0.00% (0:19310)\n",
      "Fragment.border_padding.inline_end, [inc] 0.00% (0:21087), [noninc] 0.00% (0:19310)\n",
      "Fragment.border_padding.block_start, [inc] 1.81% (382:20705), [noninc] 2.20% (424:18886)\n",
      "Fragment.border_padding.block_end, [inc] 1.81% (382:20705), [noninc] 2.20% (424:18886)\n",
      "BaseFlow.overflow.scroll.min.x, [inc] 6.90% (31291:422411), [noninc] 9.63% (38310:359548)\n",
      "BaseFlow.overflow.scroll.min.y, [inc] 15.41% (69895:383807), [noninc] 29.89% (118913:278945)\n",
      "BaseFlow.overflow.scroll.max.x, [inc] 52.06% (236175:217527), [noninc] 85.79% (341330:56528)\n",
      "BaseFlow.overflow.scroll.max.y, [inc] 51.93% (235630:218072), [noninc] 85.27% (339267:58591)\n",
      "BaseFlow.overflow.paint.min.x, [inc] 6.99% (31735:421967), [noninc] 9.92% (39469:358389)\n",
      "BaseFlow.overflow.paint.min.y, [inc] 15.50% (70330:383372), [noninc] 30.18% (120066:277791)\n",
      "BaseFlow.overflow.paint.max.x, [inc] 52.06% (236175:217527), [noninc] 85.79% (341329:56528)\n",
      "BaseFlow.overflow.paint.max.y, [inc] 51.93% (235630:218072), [noninc] 85.27% (339266:58591)\n"
     ]
    }
   ],
   "source": [
    "for dkey in sts_dict.keys():\n",
    "    dsame0 = sts_dict[dkey][0]\n",
    "    dsame1 = sts_dict[dkey][1]\n",
    "    dsame2 = sts_dict_1[dkey][0]\n",
    "    dsame3 = sts_dict_1[dkey][1]\n",
    "    print(\"{}, [inc] {:.2f}% ({}:{}), [noninc] {:.2f}% ({}:{})\".format(\n",
    "        dkey, \n",
    "        dsame0/(dsame0+dsame1)*100, dsame0, dsame1,\n",
    "        dsame2/(dsame2+dsame3)*100, dsame2, dsame3,\n",
    "    ))"
   ]
  },
  {
   "cell_type": "code",
   "execution_count": null,
   "metadata": {},
   "outputs": [],
   "source": []
  },
  {
   "cell_type": "code",
   "execution_count": null,
   "metadata": {},
   "outputs": [],
   "source": []
  },
  {
   "cell_type": "code",
   "execution_count": null,
   "metadata": {},
   "outputs": [],
   "source": [
    "# saved records for github_inc.log"
   ]
  },
  {
   "cell_type": "code",
   "execution_count": 30,
   "metadata": {},
   "outputs": [
    {
     "name": "stdout",
     "output_type": "stream",
     "text": [
      "# processing 5577408/5577409\n"
     ]
    }
   ],
   "source": [
    "sts_dict_2 = {}\n",
    "n = len(lines)\n",
    "for i in range(n):\n",
    "    print(\"\\r# processing {}/{}\".format(i, n), end=\"\")\n",
    "    dline = lines[i]\n",
    "    dattr = get_attribute_from_line(dline)\n",
    "    dsame = get_same_from_line(dline)\n",
    "    if dattr not in sts_dict_2:\n",
    "        sts_dict_2[dattr] = [0,0]\n",
    "    if dsame==\"true\":\n",
    "        sts_dict_2[dattr][1] += 1\n",
    "    elif dsame==\"false\":\n",
    "        sts_dict_2[dattr][0] += 1\n",
    "    else:\n",
    "        raise Exception(\"unrecognized same value: {}\".format(dsame))\n",
    "print()"
   ]
  },
  {
   "cell_type": "code",
   "execution_count": 32,
   "metadata": {},
   "outputs": [
    {
     "name": "stdout",
     "output_type": "stream",
     "text": [
      "BaseFlow.intrinsic_inline_sizes.minimum_inline_size, 76.82% (106216:32050)\n",
      "BaseFlow.intrinsic_inline_sizes.preferred_inline_size, 76.82% (106216:32050)\n",
      "Fragment.border_padding.inline_start, 16.02% (103:540)\n",
      "Fragment.border_padding.inline_end, 16.02% (103:540)\n",
      "Fragment.border_padding.block_start, 16.02% (103:540)\n",
      "Fragment.border_padding.block_end, 16.02% (103:540)\n",
      "BaseFlow.position.start.i, 21.80% (48347:173416)\n",
      "BaseFlow.position.start.b, 1.90% (275:14225)\n",
      "BaseFlow.position.size.inline, 60.44% (159510:104403)\n",
      "Fragment.border_box.size.blocck, 57.61% (94542:69571)\n",
      "Fragment.border_box.start.b, 24.57% (150175:461128)\n",
      "BaseFlow.position.size.block, 54.87% (97443:80155)\n",
      "Fragment.border_box.size.inline, 8.09% (39201:445527)\n",
      "Fragment.border_box.size.block, 8.22% (36628:409050)\n",
      "Fragment.border_box.start.i, 33.58% (74272:146928)\n",
      "Fragment.position.start.b, 28.92% (59397:145984)\n",
      "[inline_start]Fragment.border_padding.inline_end, 12.04% (2608:19047)\n",
      "[inline_start]Fragment.border_box.size.inline, 8.28% (1793:19862)\n",
      "[inline_end]Fragment.border_padding.inline_start, 8.28% (1793:19862)\n",
      "[inline_end]Fragment.border_box.size.inline, 12.04% (2608:19047)\n",
      "BaseFlow.overflow.scroll.min.x, 9.23% (27608:271383)\n",
      "BaseFlow.overflow.scroll.min.y, 14.41% (43072:255919)\n",
      "BaseFlow.overflow.scroll.max.x, 58.10% (173704:125287)\n",
      "BaseFlow.overflow.scroll.max.y, 57.73% (172599:126392)\n",
      "BaseFlow.overflow.paint.min.x, 13.55% (40499:258492)\n",
      "BaseFlow.overflow.paint.min.y, 18.58% (55562:243429)\n",
      "BaseFlow.overflow.paint.max.x, 58.19% (173969:125022)\n",
      "BaseFlow.overflow.paint.max.y, 57.77% (172718:126273)\n",
      "Fragment.margin.block_start, 0.00% (0:4790)\n",
      "Fragment.margin.block_end, 0.00% (0:4790)\n"
     ]
    }
   ],
   "source": [
    "for dkey in sts_dict_2.keys():\n",
    "    dsame0 = sts_dict_2[dkey][0]\n",
    "    dsame1 = sts_dict_2[dkey][1]\n",
    "    print(\"{}, {:.2f}% ({}:{})\".format(dkey, dsame0/(dsame0+dsame1)*100, dsame0, dsame1))"
   ]
  },
  {
   "cell_type": "code",
   "execution_count": null,
   "metadata": {},
   "outputs": [],
   "source": []
  },
  {
   "cell_type": "code",
   "execution_count": null,
   "metadata": {},
   "outputs": [],
   "source": []
  },
  {
   "cell_type": "code",
   "execution_count": null,
   "metadata": {},
   "outputs": [],
   "source": []
  },
  {
   "cell_type": "code",
   "execution_count": null,
   "metadata": {},
   "outputs": [],
   "source": []
  },
  {
   "cell_type": "code",
   "execution_count": null,
   "metadata": {},
   "outputs": [],
   "source": [
    "# saved records for github_noninc.log"
   ]
  },
  {
   "cell_type": "code",
   "execution_count": 37,
   "metadata": {},
   "outputs": [
    {
     "name": "stdout",
     "output_type": "stream",
     "text": [
      "# processing 5283544/5283545\n"
     ]
    }
   ],
   "source": [
    "sts_dict_3 = {}\n",
    "n = len(lines)\n",
    "for i in range(n):\n",
    "    print(\"\\r# processing {}/{}\".format(i, n), end=\"\")\n",
    "    dline = lines[i]\n",
    "    dattr = get_attribute_from_line(dline)\n",
    "    dsame = get_same_from_line(dline)\n",
    "    if dattr not in sts_dict_3:\n",
    "        sts_dict_3[dattr] = [0,0]\n",
    "    if dsame==\"true\":\n",
    "        sts_dict_3[dattr][1] += 1\n",
    "    elif dsame==\"false\":\n",
    "        sts_dict_3[dattr][0] += 1\n",
    "    else:\n",
    "        raise Exception(\"unrecognized same value: {}\".format(dsame))\n",
    "print()"
   ]
  },
  {
   "cell_type": "code",
   "execution_count": 38,
   "metadata": {},
   "outputs": [
    {
     "name": "stdout",
     "output_type": "stream",
     "text": [
      "BaseFlow.intrinsic_inline_sizes.minimum_inline_size, 82.04% (119322:26130)\n",
      "BaseFlow.intrinsic_inline_sizes.preferred_inline_size, 82.04% (119322:26130)\n",
      "Fragment.border_padding.inline_start, 15.37% (95:523)\n",
      "Fragment.border_padding.inline_end, 15.37% (95:523)\n",
      "Fragment.border_padding.block_start, 15.37% (95:523)\n",
      "Fragment.border_padding.block_end, 15.37% (95:523)\n",
      "BaseFlow.position.start.i, 24.94% (52102:156774)\n",
      "BaseFlow.position.start.b, 2.57% (385:14571)\n",
      "BaseFlow.position.size.inline, 72.71% (182006:68318)\n",
      "Fragment.border_box.size.blocck, 68.57% (109901:50371)\n",
      "Fragment.border_box.start.b, 27.61% (158217:414858)\n",
      "BaseFlow.position.size.block, 65.57% (114440:60078)\n",
      "Fragment.border_box.size.inline, 8.82% (39274:406181)\n",
      "Fragment.border_box.size.block, 9.78% (40318:371831)\n",
      "Fragment.border_box.start.i, 40.77% (82937:120509)\n",
      "Fragment.position.start.b, 32.33% (65360:136792)\n",
      "[inline_start]Fragment.border_padding.inline_end, 10.76% (1872:15525)\n",
      "[inline_start]Fragment.border_box.size.inline, 7.40% (1287:16110)\n",
      "[inline_end]Fragment.border_padding.inline_start, 7.40% (1287:16110)\n",
      "[inline_end]Fragment.border_box.size.inline, 10.76% (1872:15525)\n",
      "BaseFlow.overflow.scroll.min.x, 10.83% (30635:252307)\n",
      "BaseFlow.overflow.scroll.min.y, 16.51% (46711:236231)\n",
      "BaseFlow.overflow.scroll.max.x, 70.66% (199940:83002)\n",
      "BaseFlow.overflow.scroll.max.y, 70.56% (199640:83302)\n",
      "BaseFlow.overflow.paint.min.x, 16.21% (45857:237085)\n",
      "BaseFlow.overflow.paint.min.y, 22.05% (62375:220567)\n",
      "BaseFlow.overflow.paint.max.x, 70.78% (200280:82662)\n",
      "BaseFlow.overflow.paint.max.y, 70.61% (199786:83156)\n",
      "Fragment.margin.block_start, 0.00% (0:5911)\n",
      "Fragment.margin.block_end, 0.00% (0:5911)\n"
     ]
    }
   ],
   "source": [
    "for dkey in sts_dict_3.keys():\n",
    "    dsame0 = sts_dict_3[dkey][0]\n",
    "    dsame1 = sts_dict_3[dkey][1]\n",
    "    print(\"{}, {:.2f}% ({}:{})\".format(dkey, dsame0/(dsame0+dsame1)*100, dsame0, dsame1))"
   ]
  },
  {
   "cell_type": "code",
   "execution_count": null,
   "metadata": {},
   "outputs": [],
   "source": []
  },
  {
   "cell_type": "code",
   "execution_count": null,
   "metadata": {},
   "outputs": [],
   "source": []
  },
  {
   "cell_type": "code",
   "execution_count": null,
   "metadata": {},
   "outputs": [],
   "source": [
    "# parallel display of 2&3"
   ]
  },
  {
   "cell_type": "code",
   "execution_count": 40,
   "metadata": {},
   "outputs": [
    {
     "name": "stdout",
     "output_type": "stream",
     "text": [
      "BaseFlow.intrinsic_inline_sizes.minimum_inline_size, [inc] 76.82% (106216:32050), [noninc] 82.04% (119322:26130)\n",
      "BaseFlow.intrinsic_inline_sizes.preferred_inline_size, [inc] 76.82% (106216:32050), [noninc] 82.04% (119322:26130)\n",
      "Fragment.border_padding.inline_start, [inc] 16.02% (103:540), [noninc] 15.37% (95:523)\n",
      "Fragment.border_padding.inline_end, [inc] 16.02% (103:540), [noninc] 15.37% (95:523)\n",
      "Fragment.border_padding.block_start, [inc] 16.02% (103:540), [noninc] 15.37% (95:523)\n",
      "Fragment.border_padding.block_end, [inc] 16.02% (103:540), [noninc] 15.37% (95:523)\n",
      "BaseFlow.position.start.i, [inc] 21.80% (48347:173416), [noninc] 24.94% (52102:156774)\n",
      "BaseFlow.position.start.b, [inc] 1.90% (275:14225), [noninc] 2.57% (385:14571)\n",
      "BaseFlow.position.size.inline, [inc] 60.44% (159510:104403), [noninc] 72.71% (182006:68318)\n",
      "Fragment.border_box.size.blocck, [inc] 57.61% (94542:69571), [noninc] 68.57% (109901:50371)\n",
      "Fragment.border_box.start.b, [inc] 24.57% (150175:461128), [noninc] 27.61% (158217:414858)\n",
      "BaseFlow.position.size.block, [inc] 54.87% (97443:80155), [noninc] 65.57% (114440:60078)\n",
      "Fragment.border_box.size.inline, [inc] 8.09% (39201:445527), [noninc] 8.82% (39274:406181)\n",
      "Fragment.border_box.size.block, [inc] 8.22% (36628:409050), [noninc] 9.78% (40318:371831)\n",
      "Fragment.border_box.start.i, [inc] 33.58% (74272:146928), [noninc] 40.77% (82937:120509)\n",
      "Fragment.position.start.b, [inc] 28.92% (59397:145984), [noninc] 32.33% (65360:136792)\n",
      "[inline_start]Fragment.border_padding.inline_end, [inc] 12.04% (2608:19047), [noninc] 10.76% (1872:15525)\n",
      "[inline_start]Fragment.border_box.size.inline, [inc] 8.28% (1793:19862), [noninc] 7.40% (1287:16110)\n",
      "[inline_end]Fragment.border_padding.inline_start, [inc] 8.28% (1793:19862), [noninc] 7.40% (1287:16110)\n",
      "[inline_end]Fragment.border_box.size.inline, [inc] 12.04% (2608:19047), [noninc] 10.76% (1872:15525)\n",
      "BaseFlow.overflow.scroll.min.x, [inc] 9.23% (27608:271383), [noninc] 10.83% (30635:252307)\n",
      "BaseFlow.overflow.scroll.min.y, [inc] 14.41% (43072:255919), [noninc] 16.51% (46711:236231)\n",
      "BaseFlow.overflow.scroll.max.x, [inc] 58.10% (173704:125287), [noninc] 70.66% (199940:83002)\n",
      "BaseFlow.overflow.scroll.max.y, [inc] 57.73% (172599:126392), [noninc] 70.56% (199640:83302)\n",
      "BaseFlow.overflow.paint.min.x, [inc] 13.55% (40499:258492), [noninc] 16.21% (45857:237085)\n",
      "BaseFlow.overflow.paint.min.y, [inc] 18.58% (55562:243429), [noninc] 22.05% (62375:220567)\n",
      "BaseFlow.overflow.paint.max.x, [inc] 58.19% (173969:125022), [noninc] 70.78% (200280:82662)\n",
      "BaseFlow.overflow.paint.max.y, [inc] 57.77% (172718:126273), [noninc] 70.61% (199786:83156)\n",
      "Fragment.margin.block_start, [inc] 0.00% (0:4790), [noninc] 0.00% (0:5911)\n",
      "Fragment.margin.block_end, [inc] 0.00% (0:4790), [noninc] 0.00% (0:5911)\n"
     ]
    }
   ],
   "source": [
    "for dkey in sts_dict_2.keys():\n",
    "    dsame0 = sts_dict_2[dkey][0]\n",
    "    dsame1 = sts_dict_2[dkey][1]\n",
    "    dsame2 = sts_dict_3[dkey][0]\n",
    "    dsame3 = sts_dict_3[dkey][1]\n",
    "    print(\"{}, [inc] {:.2f}% ({}:{}), [noninc] {:.2f}% ({}:{})\".format(\n",
    "        dkey, \n",
    "        dsame0/(dsame0+dsame1)*100, dsame0, dsame1,\n",
    "        dsame2/(dsame2+dsame3)*100, dsame2, dsame3,\n",
    "    ))"
   ]
  },
  {
   "cell_type": "code",
   "execution_count": null,
   "metadata": {},
   "outputs": [],
   "source": []
  },
  {
   "cell_type": "code",
   "execution_count": null,
   "metadata": {},
   "outputs": [],
   "source": []
  },
  {
   "cell_type": "code",
   "execution_count": null,
   "metadata": {},
   "outputs": [],
   "source": [
    "# overall statistics"
   ]
  },
  {
   "cell_type": "code",
   "execution_count": 58,
   "metadata": {},
   "outputs": [
    {
     "name": "stdout",
     "output_type": "stream",
     "text": [
      "22.87\n",
      "[1.08%] BaseFlow.intrinsic_inline_sizes.minimum_inline_size\n",
      "[1.08%] BaseFlow.intrinsic_inline_sizes.preferred_inline_size\n",
      "[3.01%] BaseFlow.position.start.i\n",
      "[0.19%] BaseFlow.position.start.b\n",
      "[3.57%] BaseFlow.position.size.inline\n",
      "[16.13%] Fragment.border_box.size.inline\n",
      "[1.71%] Fragment.border_box.size.blocck\n",
      "[16.58%] Fragment.border_box.start.b\n",
      "[1.87%] BaseFlow.position.size.block\n",
      "[14.66%] Fragment.border_box.size.block\n",
      "[7.41%] Fragment.border_box.start.i\n",
      "[2.69%] Fragment.position.start.b\n",
      "[1.59%] [inline_start]Fragment.border_padding.inline_end\n",
      "[1.59%] [inline_start]Fragment.border_box.size.inline\n",
      "[1.59%] [inline_end]Fragment.border_padding.inline_start\n",
      "[1.59%] [inline_end]Fragment.border_box.size.inline\n",
      "[0.06%] Fragment.margin.block_start\n",
      "[0.06%] Fragment.margin.block_end\n",
      "[0.13%] Fragment.border_padding.inline_start\n",
      "[0.13%] Fragment.border_padding.inline_end\n",
      "[0.13%] Fragment.border_padding.block_start\n",
      "[0.13%] Fragment.border_padding.block_end\n",
      "[2.88%] BaseFlow.overflow.scroll.min.x\n",
      "[2.88%] BaseFlow.overflow.scroll.min.y\n",
      "[2.88%] BaseFlow.overflow.scroll.max.x\n",
      "[2.88%] BaseFlow.overflow.scroll.max.y\n",
      "[2.88%] BaseFlow.overflow.paint.min.x\n",
      "[2.88%] BaseFlow.overflow.paint.min.y\n",
      "[2.88%] BaseFlow.overflow.paint.max.x\n",
      "[2.88%] BaseFlow.overflow.paint.max.y\n"
     ]
    }
   ],
   "source": [
    "tcomp = 0\n",
    "tdiff = 0\n",
    "for dkey in sts_dict.keys():\n",
    "    tcomp += sts_dict[dkey][0] + sts_dict[dkey][1]\n",
    "    tdiff += sts_dict[dkey][0]\n",
    "print(\"{:.2f}\".format(tdiff/tcomp*100))\n",
    "for dkey in sts_dict.keys():\n",
    "    print(\"[{:.2f}%] {}\".format(sum(sts_dict[dkey])/tcomp*100, dkey))"
   ]
  },
  {
   "cell_type": "code",
   "execution_count": null,
   "metadata": {},
   "outputs": [],
   "source": []
  },
  {
   "cell_type": "code",
   "execution_count": null,
   "metadata": {},
   "outputs": [],
   "source": []
  },
  {
   "cell_type": "code",
   "execution_count": 25,
   "metadata": {},
   "outputs": [],
   "source": [
    "# import re\n",
    "# qdps = []\n",
    "# for i in range(len(lines)):\n",
    "#     print(\"\\r# processing {}/{}\".format(i, len(lines)), end=\"\")\n",
    "#     if \"compute_intrinsic_inline_sizes\" in lines[i]:\n",
    "#         if \"border_padding.inline_start\" in lines[i]:\n",
    "#             # identified first target line\n",
    "#             str0 = re.search(r\"same=(.*)\", lines[i]).group(1).strip()\n",
    "#             bool0 = False if str0==\"false\" else True\n",
    "            \n",
    "#             if \"border_padding.inline_end\" not in lines[i+1]:\n",
    "#                 continue\n",
    "# #                 raise Exception(\"border_padding.inline_end\")\n",
    "#             str1 = re.search(r\"same=(.*)\", lines[i+1]).group(1).strip()\n",
    "#             bool1 = False if str1==\"false\" else True\n",
    "            \n",
    "#             if \"border_padding.block_start\" not in lines[i+2]:\n",
    "#                 continue\n",
    "# #                 raise Exception(\"border_padding.block_start\")\n",
    "#             str2 = re.search(r\"same=(.*)\", lines[i+2]).group(1).strip()\n",
    "#             bool2 = False if str2==\"false\" else True\n",
    "            \n",
    "#             if \"border_padding.block_end\" not in lines[i+3]:\n",
    "#                 continue\n",
    "# #                 raise Exception(\"border_padding.block_end\")\n",
    "#             str3 = re.search(r\"same=(.*)\", lines[i+3]).group(1).strip()\n",
    "#             bool3 = False if str3==\"false\" else True\n",
    "            \n",
    "#             qdps.append( (bool0, bool1, bool2, bool3) )\n",
    "# print(\"\")"
   ]
  },
  {
   "cell_type": "code",
   "execution_count": 78,
   "metadata": {},
   "outputs": [],
   "source": [
    "# from collections import Counter\n",
    "# counter = Counter(qdps)"
   ]
  },
  {
   "cell_type": "code",
   "execution_count": 24,
   "metadata": {},
   "outputs": [],
   "source": [
    "# counter"
   ]
  },
  {
   "cell_type": "code",
   "execution_count": 80,
   "metadata": {},
   "outputs": [],
   "source": [
    "# ss = []\n",
    "# for p in qdps:\n",
    "#     ss += list(p)"
   ]
  },
  {
   "cell_type": "code",
   "execution_count": 23,
   "metadata": {},
   "outputs": [],
   "source": [
    "# counter = Counter(ss)\n",
    "# counter"
   ]
  },
  {
   "cell_type": "code",
   "execution_count": null,
   "metadata": {},
   "outputs": [],
   "source": []
  }
 ],
 "metadata": {
  "kernelspec": {
   "display_name": "Python 3",
   "language": "python",
   "name": "python3"
  },
  "language_info": {
   "codemirror_mode": {
    "name": "ipython",
    "version": 3
   },
   "file_extension": ".py",
   "mimetype": "text/x-python",
   "name": "python",
   "nbconvert_exporter": "python",
   "pygments_lexer": "ipython3",
   "version": "3.6.9"
  }
 },
 "nbformat": 4,
 "nbformat_minor": 4
}
