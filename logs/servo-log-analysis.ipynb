{
 "cells": [
  {
   "cell_type": "code",
   "execution_count": 73,
   "metadata": {},
   "outputs": [],
   "source": [
    "# with open(\"./log_wikipedia.log\", \"r\") as f:\n",
    "# with open(\"./log_github.log\", \"r\") as f:\n",
    "# with open(\"./log_stackoverflow.log\", \"r\") as f:\n",
    "with open(\"./log_amazon.log\", \"r\") as f:\n",
    "# with open(\"./log00_github.log\", \"r\") as f:\n",
    "# with open(\"./log00_wikipedia.log\", \"r\") as f:\n",
    "# with open(\"./log00_stackoverflow.log\", \"r\") as f:\n",
    "    lines = f.readlines()"
   ]
  },
  {
   "cell_type": "code",
   "execution_count": 74,
   "metadata": {},
   "outputs": [],
   "source": [
    "lines = [p for p in lines if \"compute_intrinsic_inline_sizes\" in p]"
   ]
  },
  {
   "cell_type": "code",
   "execution_count": 75,
   "metadata": {},
   "outputs": [
    {
     "data": {
      "text/plain": [
       "186356"
      ]
     },
     "execution_count": 75,
     "metadata": {},
     "output_type": "execute_result"
    }
   ],
   "source": [
    "len(lines)"
   ]
  },
  {
   "cell_type": "code",
   "execution_count": 77,
   "metadata": {},
   "outputs": [
    {
     "name": "stdout",
     "output_type": "stream",
     "text": [
      "# processing 186355/186356\n"
     ]
    }
   ],
   "source": [
    "import re\n",
    "qdps = []\n",
    "for i in range(len(lines)):\n",
    "    print(\"\\r# processing {}/{}\".format(i, len(lines)), end=\"\")\n",
    "    if \"compute_intrinsic_inline_sizes\" in lines[i]:\n",
    "        if \"border_padding.inline_start\" in lines[i]:\n",
    "            # identified first target line\n",
    "            str0 = re.search(r\"same=(.*)\", lines[i]).group(1).strip()\n",
    "            bool0 = False if str0==\"false\" else True\n",
    "            \n",
    "            if \"border_padding.inline_end\" not in lines[i+1]:\n",
    "                continue\n",
    "#                 raise Exception(\"border_padding.inline_end\")\n",
    "            str1 = re.search(r\"same=(.*)\", lines[i+1]).group(1).strip()\n",
    "            bool1 = False if str1==\"false\" else True\n",
    "            \n",
    "            if \"border_padding.block_start\" not in lines[i+2]:\n",
    "                continue\n",
    "#                 raise Exception(\"border_padding.block_start\")\n",
    "            str2 = re.search(r\"same=(.*)\", lines[i+2]).group(1).strip()\n",
    "            bool2 = False if str2==\"false\" else True\n",
    "            \n",
    "            if \"border_padding.block_end\" not in lines[i+3]:\n",
    "                continue\n",
    "#                 raise Exception(\"border_padding.block_end\")\n",
    "            str3 = re.search(r\"same=(.*)\", lines[i+3]).group(1).strip()\n",
    "            bool3 = False if str3==\"false\" else True\n",
    "            \n",
    "            qdps.append( (bool0, bool1, bool2, bool3) )\n",
    "print(\"\")"
   ]
  },
  {
   "cell_type": "code",
   "execution_count": 78,
   "metadata": {},
   "outputs": [],
   "source": [
    "from collections import Counter\n",
    "counter = Counter(qdps)"
   ]
  },
  {
   "cell_type": "code",
   "execution_count": 79,
   "metadata": {},
   "outputs": [
    {
     "data": {
      "text/plain": [
       "Counter({(True, True, True, True): 46236})"
      ]
     },
     "execution_count": 79,
     "metadata": {},
     "output_type": "execute_result"
    }
   ],
   "source": [
    "counter"
   ]
  },
  {
   "cell_type": "code",
   "execution_count": 80,
   "metadata": {},
   "outputs": [],
   "source": [
    "ss = []\n",
    "for p in qdps:\n",
    "    ss += list(p)"
   ]
  },
  {
   "cell_type": "code",
   "execution_count": 81,
   "metadata": {},
   "outputs": [
    {
     "data": {
      "text/plain": [
       "Counter({True: 184944})"
      ]
     },
     "execution_count": 81,
     "metadata": {},
     "output_type": "execute_result"
    }
   ],
   "source": [
    "counter = Counter(ss)\n",
    "counter"
   ]
  },
  {
   "cell_type": "code",
   "execution_count": null,
   "metadata": {},
   "outputs": [],
   "source": []
  }
 ],
 "metadata": {
  "kernelspec": {
   "display_name": "Python 3",
   "language": "python",
   "name": "python3"
  },
  "language_info": {
   "codemirror_mode": {
    "name": "ipython",
    "version": 3
   },
   "file_extension": ".py",
   "mimetype": "text/x-python",
   "name": "python",
   "nbconvert_exporter": "python",
   "pygments_lexer": "ipython3",
   "version": "3.6.9"
  }
 },
 "nbformat": 4,
 "nbformat_minor": 4
}
